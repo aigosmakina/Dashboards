{
 "cells": [
  {
   "cell_type": "markdown",
   "id": "ad2405ec",
   "metadata": {},
   "source": [
    "**Added libraries for woring with Gmail extract and pandas dataframe**"
   ]
  },
  {
   "cell_type": "code",
   "execution_count": null,
   "id": "b7755391",
   "metadata": {},
   "outputs": [],
   "source": [
    "%pylab inline\n",
    "import mailbox\n",
    "import csv\n",
    "import sys\n",
    "import pandas as pd\n"
   ]
  },
  {
   "cell_type": "code",
   "execution_count": 91,
   "id": "e6700e99",
   "metadata": {},
   "outputs": [],
   "source": [
    "mb = mailbox.mbox('Inbox.mbox')"
   ]
  },
  {
   "cell_type": "markdown",
   "id": "4f555510",
   "metadata": {},
   "source": [
    "**Converted .mbox file format into a CSV**\n"
   ]
  },
  {
   "cell_type": "code",
   "execution_count": 92,
   "id": "fc1acb9e",
   "metadata": {},
   "outputs": [
    {
     "name": "stdout",
     "output_type": "stream",
     "text": [
      "4834 messages\n",
      "****************************************************************************************************\n"
     ]
    },
    {
     "data": {
      "text/plain": [
       "[{'Date': 'Sat, 5 Feb 2022 03:21:02 +0000 (UTC)',\n",
       "  'From': 'Anara Alpyssova via LinkedIn <invitations@linkedin.com>',\n",
       "  'X-Gmail-Labels': 'Inbox,Category social,Unread',\n",
       "  'X-GM-THRID': '1723891726467518907'},\n",
       " {'Date': 'Thu, 10 Feb 2022 13:17:56 -0800',\n",
       "  'From': '\"Facebook\" <friendupdates@facebookmail.com>',\n",
       "  'X-Gmail-Labels': 'Inbox,Category social,Unread',\n",
       "  'X-GM-THRID': '1724412467457653322'},\n",
       " {'Date': 'Fri, 21 Jan 2022 11:02:26 -0600',\n",
       "  'From': '\"AbeBooks.co.uk\" <news@sender.abebooks.co.uk>',\n",
       "  'X-Gmail-Labels': 'Inbox,Category promotions,Unread',\n",
       "  'X-GM-THRID': '1722584654539701008'}]"
      ]
     },
     "execution_count": 92,
     "metadata": {},
     "output_type": "execute_result"
    }
   ],
   "source": [
    "keys = ['Date', 'From', 'X-Gmail-Labels', 'X-GM-THRID']\n",
    "message_list = []\n",
    "\n",
    "for message in mb.itervalues():\n",
    "    dmessage = dict(message.items())\n",
    "    message_list.append({key:dmessage[key] if key in dmessage.keys() else '' for key in keys})\n",
    "\n",
    "print (len(message_list), 'messages')\n",
    "print('**'*50)\n",
    "message_list[:3]"
   ]
  },
  {
   "cell_type": "markdown",
   "id": "dfe5c617",
   "metadata": {},
   "source": [
    "**Created dataframe and analysed how data looks like in the file**"
   ]
  },
  {
   "cell_type": "code",
   "execution_count": 107,
   "id": "5f0f8c53",
   "metadata": {},
   "outputs": [
    {
     "name": "stdout",
     "output_type": "stream",
     "text": [
      "(4834, 4)\n"
     ]
    },
    {
     "data": {
      "text/html": [
       "<div>\n",
       "<style scoped>\n",
       "    .dataframe tbody tr th:only-of-type {\n",
       "        vertical-align: middle;\n",
       "    }\n",
       "\n",
       "    .dataframe tbody tr th {\n",
       "        vertical-align: top;\n",
       "    }\n",
       "\n",
       "    .dataframe thead th {\n",
       "        text-align: right;\n",
       "    }\n",
       "</style>\n",
       "<table border=\"1\" class=\"dataframe\">\n",
       "  <thead>\n",
       "    <tr style=\"text-align: right;\">\n",
       "      <th></th>\n",
       "      <th>Date</th>\n",
       "      <th>From</th>\n",
       "      <th>X-Gmail-Labels</th>\n",
       "      <th>X-GM-THRID</th>\n",
       "    </tr>\n",
       "  </thead>\n",
       "  <tbody>\n",
       "    <tr>\n",
       "      <th>0</th>\n",
       "      <td>Sat, 5 Feb 2022 03:21:02 +0000 (UTC)</td>\n",
       "      <td>Anara Alpyssova via LinkedIn &lt;invitations@link...</td>\n",
       "      <td>Inbox,Category social,Unread</td>\n",
       "      <td>1723891726467518907</td>\n",
       "    </tr>\n",
       "    <tr>\n",
       "      <th>1</th>\n",
       "      <td>Thu, 10 Feb 2022 13:17:56 -0800</td>\n",
       "      <td>\"Facebook\" &lt;friendupdates@facebookmail.com&gt;</td>\n",
       "      <td>Inbox,Category social,Unread</td>\n",
       "      <td>1724412467457653322</td>\n",
       "    </tr>\n",
       "    <tr>\n",
       "      <th>2</th>\n",
       "      <td>Fri, 21 Jan 2022 11:02:26 -0600</td>\n",
       "      <td>\"AbeBooks.co.uk\" &lt;news@sender.abebooks.co.uk&gt;</td>\n",
       "      <td>Inbox,Category promotions,Unread</td>\n",
       "      <td>1722584654539701008</td>\n",
       "    </tr>\n",
       "    <tr>\n",
       "      <th>3</th>\n",
       "      <td>Fri, 21 Jan 2022 01:52:40 -0600</td>\n",
       "      <td>\"MANGO Man\" &lt;news@a.mango.com&gt;</td>\n",
       "      <td>Inbox,Category promotions,Unread</td>\n",
       "      <td>1722549865366624443</td>\n",
       "    </tr>\n",
       "    <tr>\n",
       "      <th>4</th>\n",
       "      <td>Thu, 27 Jan 2022 07:33:32 +0000</td>\n",
       "      <td>\"ITVDN\" &lt;info@itvdn.com&gt;</td>\n",
       "      <td>Inbox,Opened,Category updates</td>\n",
       "      <td>1723092238726073413</td>\n",
       "    </tr>\n",
       "  </tbody>\n",
       "</table>\n",
       "</div>"
      ],
      "text/plain": [
       "                                   Date  \\\n",
       "0  Sat, 5 Feb 2022 03:21:02 +0000 (UTC)   \n",
       "1       Thu, 10 Feb 2022 13:17:56 -0800   \n",
       "2       Fri, 21 Jan 2022 11:02:26 -0600   \n",
       "3       Fri, 21 Jan 2022 01:52:40 -0600   \n",
       "4       Thu, 27 Jan 2022 07:33:32 +0000   \n",
       "\n",
       "                                                From  \\\n",
       "0  Anara Alpyssova via LinkedIn <invitations@link...   \n",
       "1        \"Facebook\" <friendupdates@facebookmail.com>   \n",
       "2      \"AbeBooks.co.uk\" <news@sender.abebooks.co.uk>   \n",
       "3                     \"MANGO Man\" <news@a.mango.com>   \n",
       "4                           \"ITVDN\" <info@itvdn.com>   \n",
       "\n",
       "                     X-Gmail-Labels           X-GM-THRID  \n",
       "0      Inbox,Category social,Unread  1723891726467518907  \n",
       "1      Inbox,Category social,Unread  1724412467457653322  \n",
       "2  Inbox,Category promotions,Unread  1722584654539701008  \n",
       "3  Inbox,Category promotions,Unread  1722549865366624443  \n",
       "4     Inbox,Opened,Category updates  1723092238726073413  "
      ]
     },
     "execution_count": 107,
     "metadata": {},
     "output_type": "execute_result"
    }
   ],
   "source": [
    "messages = pd.DataFrame(message_list)\n",
    "#messages.index = messages['Date'].apply(lambda x: pd.to_datetime(x, errors= 'coerce'))\n",
    "#messages.drop(['Date'], axis=1, inplace=True)\n",
    "print (messages.shape)\n",
    "messages.head()"
   ]
  },
  {
   "cell_type": "code",
   "execution_count": 5,
   "id": "986e6425",
   "metadata": {},
   "outputs": [
    {
     "name": "stdout",
     "output_type": "stream",
     "text": [
      "4263 threads total\n"
     ]
    },
    {
     "data": {
      "text/plain": [
       "Text(0.5, 0, 'Length of Threads')"
      ]
     },
     "execution_count": 5,
     "metadata": {},
     "output_type": "execute_result"
    },
    {
     "data": {
      "image/png": "[encoded data removed]",
      "text/plain": [
       "<Figure size 432x288 with 1 Axes>"
      ]
     },
     "metadata": {
      "needs_background": "light"
     },
     "output_type": "display_data"
    }
   ],
   "source": [
    "conversation_list = []\n",
    "threads = messages.groupby(by='X-GM-THRID')\n",
    "print (len(threads), 'threads total')\n",
    "\n",
    "counts = threads.aggregate('count')['X-Gmail-Labels'].value_counts()\n",
    "counts.plot(logy=True, linewidth=0, marker = '.', alpha=.5)\n",
    "plt.ylabel('Number of Threads')\n",
    "plt.xlabel('Length of Threads')"
   ]
  },
  {
   "cell_type": "code",
   "execution_count": 6,
   "id": "d1c56051",
   "metadata": {},
   "outputs": [
    {
     "name": "stdout",
     "output_type": "stream",
     "text": [
      "(11, 2)\n"
     ]
    },
    {
     "data": {
      "text/html": [
       "<div>\n",
       "<style scoped>\n",
       "    .dataframe tbody tr th:only-of-type {\n",
       "        vertical-align: middle;\n",
       "    }\n",
       "\n",
       "    .dataframe tbody tr th {\n",
       "        vertical-align: top;\n",
       "    }\n",
       "\n",
       "    .dataframe thead th {\n",
       "        text-align: right;\n",
       "    }\n",
       "</style>\n",
       "<table border=\"1\" class=\"dataframe\">\n",
       "  <thead>\n",
       "    <tr style=\"text-align: right;\">\n",
       "      <th></th>\n",
       "      <th>tstart</th>\n",
       "      <th>tjoin</th>\n",
       "    </tr>\n",
       "  </thead>\n",
       "  <tbody>\n",
       "    <tr>\n",
       "      <th>0</th>\n",
       "      <td>2017-01-08 21:21:53</td>\n",
       "      <td>2017-01-24 13:10:56</td>\n",
       "    </tr>\n",
       "    <tr>\n",
       "      <th>1</th>\n",
       "      <td>2019-02-14 15:54:39</td>\n",
       "      <td>2019-02-15 14:32:35</td>\n",
       "    </tr>\n",
       "    <tr>\n",
       "      <th>2</th>\n",
       "      <td>2019-06-18 13:16:18</td>\n",
       "      <td>2019-08-21 16:47:15</td>\n",
       "    </tr>\n",
       "    <tr>\n",
       "      <th>3</th>\n",
       "      <td>2019-11-03 17:04:29</td>\n",
       "      <td>2019-11-03 14:06:48</td>\n",
       "    </tr>\n",
       "    <tr>\n",
       "      <th>4</th>\n",
       "      <td>2019-11-09 09:09:43</td>\n",
       "      <td>2020-01-05 20:16:33</td>\n",
       "    </tr>\n",
       "  </tbody>\n",
       "</table>\n",
       "</div>"
      ],
      "text/plain": [
       "               tstart               tjoin\n",
       "0 2017-01-08 21:21:53 2017-01-24 13:10:56\n",
       "1 2019-02-14 15:54:39 2019-02-15 14:32:35\n",
       "2 2019-06-18 13:16:18 2019-08-21 16:47:15\n",
       "3 2019-11-03 17:04:29 2019-11-03 14:06:48\n",
       "4 2019-11-09 09:09:43 2020-01-05 20:16:33"
      ]
     },
     "execution_count": 6,
     "metadata": {},
     "output_type": "execute_result"
    }
   ],
   "source": [
    "from datetime import datetime, timezone\n",
    "for name, group in threads:\n",
    "    if len(group) > 1:\n",
    "        if 'Sent' in group['X-Gmail-Labels'].values:\n",
    "            group.sort_index(inplace=True)\n",
    "            tstart = group.index[0]\n",
    "            tjoin = group[group['X-Gmail-Labels']=='Sent'].index[0]\n",
    "            tstart1 = tstart.replace(tzinfo=None)\n",
    "            tjoin1 = tjoin.replace(tzinfo=None)\n",
    "            conversation_list.append({'tstart':tstart1, 'tjoin':tjoin1})\n",
    "\n",
    "conversations = pd.DataFrame(conversation_list)\n",
    "print (conversations.shape)\n",
    "conversations.head()"
   ]
  },
  {
   "cell_type": "code",
   "execution_count": 7,
   "id": "22dabdc6",
   "metadata": {},
   "outputs": [
    {
     "data": {
      "text/plain": [
       "0    15.659062\n",
       "1     0.943009\n",
       "2    64.146493\n",
       "3    -0.123391\n",
       "4    57.463079\n",
       "dtype: float64"
      ]
     },
     "execution_count": 7,
     "metadata": {},
     "output_type": "execute_result"
    }
   ],
   "source": [
    "\n",
    "delta = conversations['tjoin']-conversations['tstart']\n",
    "days = 1.* delta.dt.total_seconds() / 3600 / 24\n",
    "days.head()"
   ]
  },
  {
   "cell_type": "code",
   "execution_count": 8,
   "id": "9d90831e",
   "metadata": {},
   "outputs": [],
   "source": [
    "#days.to_csv('days_to_join_conversation.csv')\n",
    "#messages.to_csv('Inbox_csv.csv')"
   ]
  },
  {
   "cell_type": "markdown",
   "id": "5fb90d9d",
   "metadata": {},
   "source": [
    "**Splitted df columns into meaningful table which will be later visualised**"
   ]
  },
  {
   "cell_type": "code",
   "execution_count": 102,
   "id": "99c96203",
   "metadata": {},
   "outputs": [
    {
     "data": {
      "text/html": [
       "<div>\n",
       "<style scoped>\n",
       "    .dataframe tbody tr th:only-of-type {\n",
       "        vertical-align: middle;\n",
       "    }\n",
       "\n",
       "    .dataframe tbody tr th {\n",
       "        vertical-align: top;\n",
       "    }\n",
       "\n",
       "    .dataframe thead th {\n",
       "        text-align: right;\n",
       "    }\n",
       "</style>\n",
       "<table border=\"1\" class=\"dataframe\">\n",
       "  <thead>\n",
       "    <tr style=\"text-align: right;\">\n",
       "      <th></th>\n",
       "      <th>0</th>\n",
       "      <th>1</th>\n",
       "      <th>2</th>\n",
       "      <th>From</th>\n",
       "      <th>X-Gmail-Labels</th>\n",
       "      <th>X-GM-THRID</th>\n",
       "    </tr>\n",
       "  </thead>\n",
       "  <tbody>\n",
       "    <tr>\n",
       "      <th>0</th>\n",
       "      <td>Inbox</td>\n",
       "      <td>Category social</td>\n",
       "      <td>Unread</td>\n",
       "      <td>Anara Alpyssova via LinkedIn &lt;invitations@link...</td>\n",
       "      <td>Inbox,Category social,Unread</td>\n",
       "      <td>1723891726467518907</td>\n",
       "    </tr>\n",
       "    <tr>\n",
       "      <th>1</th>\n",
       "      <td>Inbox</td>\n",
       "      <td>Category social</td>\n",
       "      <td>Unread</td>\n",
       "      <td>\"Facebook\" &lt;friendupdates@facebookmail.com&gt;</td>\n",
       "      <td>Inbox,Category social,Unread</td>\n",
       "      <td>1724412467457653322</td>\n",
       "    </tr>\n",
       "    <tr>\n",
       "      <th>2</th>\n",
       "      <td>Inbox</td>\n",
       "      <td>Category promotions</td>\n",
       "      <td>Unread</td>\n",
       "      <td>\"AbeBooks.co.uk\" &lt;news@sender.abebooks.co.uk&gt;</td>\n",
       "      <td>Inbox,Category promotions,Unread</td>\n",
       "      <td>1722584654539701008</td>\n",
       "    </tr>\n",
       "    <tr>\n",
       "      <th>3</th>\n",
       "      <td>Inbox</td>\n",
       "      <td>Category promotions</td>\n",
       "      <td>Unread</td>\n",
       "      <td>\"MANGO Man\" &lt;news@a.mango.com&gt;</td>\n",
       "      <td>Inbox,Category promotions,Unread</td>\n",
       "      <td>1722549865366624443</td>\n",
       "    </tr>\n",
       "    <tr>\n",
       "      <th>4</th>\n",
       "      <td>Inbox</td>\n",
       "      <td>Opened</td>\n",
       "      <td>Category updates</td>\n",
       "      <td>\"ITVDN\" &lt;info@itvdn.com&gt;</td>\n",
       "      <td>Inbox,Opened,Category updates</td>\n",
       "      <td>1723092238726073413</td>\n",
       "    </tr>\n",
       "  </tbody>\n",
       "</table>\n",
       "</div>"
      ],
      "text/plain": [
       "       0                    1                 2  \\\n",
       "0  Inbox      Category social            Unread   \n",
       "1  Inbox      Category social            Unread   \n",
       "2  Inbox  Category promotions            Unread   \n",
       "3  Inbox  Category promotions            Unread   \n",
       "4  Inbox               Opened  Category updates   \n",
       "\n",
       "                                                From  \\\n",
       "0  Anara Alpyssova via LinkedIn <invitations@link...   \n",
       "1        \"Facebook\" <friendupdates@facebookmail.com>   \n",
       "2      \"AbeBooks.co.uk\" <news@sender.abebooks.co.uk>   \n",
       "3                     \"MANGO Man\" <news@a.mango.com>   \n",
       "4                           \"ITVDN\" <info@itvdn.com>   \n",
       "\n",
       "                     X-Gmail-Labels           X-GM-THRID  \n",
       "0      Inbox,Category social,Unread  1723891726467518907  \n",
       "1      Inbox,Category social,Unread  1724412467457653322  \n",
       "2  Inbox,Category promotions,Unread  1722584654539701008  \n",
       "3  Inbox,Category promotions,Unread  1722549865366624443  \n",
       "4     Inbox,Opened,Category updates  1723092238726073413  "
      ]
     },
     "execution_count": 102,
     "metadata": {},
     "output_type": "execute_result"
    }
   ],
   "source": [
    "i = messages.columns.get_loc('Date')\n",
    "df2 = messages['X-Gmail-Labels'].str.split(\",\", expand=True, n=2)\n",
    "df3 = pd.concat([messages.iloc[:, :i], df2, messages.iloc[:, i+1:]], axis=1)"
   ]
  },
  {
   "cell_type": "code",
   "execution_count": 105,
   "id": "96a77e89",
   "metadata": {},
   "outputs": [
    {
     "name": "stdout",
     "output_type": "stream",
     "text": [
      "Index(['Folder', 'Category', 'Read status', 'From', 'X-Gmail-Labels',\n",
      "       'X-GM-THRID'],\n",
      "      dtype='object')\n"
     ]
    },
    {
     "data": {
      "text/html": [
       "<div>\n",
       "<style scoped>\n",
       "    .dataframe tbody tr th:only-of-type {\n",
       "        vertical-align: middle;\n",
       "    }\n",
       "\n",
       "    .dataframe tbody tr th {\n",
       "        vertical-align: top;\n",
       "    }\n",
       "\n",
       "    .dataframe thead th {\n",
       "        text-align: right;\n",
       "    }\n",
       "</style>\n",
       "<table border=\"1\" class=\"dataframe\">\n",
       "  <thead>\n",
       "    <tr style=\"text-align: right;\">\n",
       "      <th></th>\n",
       "      <th>Folder</th>\n",
       "      <th>Category</th>\n",
       "      <th>Read status</th>\n",
       "      <th>From</th>\n",
       "      <th>X-Gmail-Labels</th>\n",
       "      <th>X-GM-THRID</th>\n",
       "    </tr>\n",
       "  </thead>\n",
       "  <tbody>\n",
       "    <tr>\n",
       "      <th>0</th>\n",
       "      <td>Inbox</td>\n",
       "      <td>Category social</td>\n",
       "      <td>Unread</td>\n",
       "      <td>Anara Alpyssova via LinkedIn &lt;invitations@link...</td>\n",
       "      <td>Inbox,Category social,Unread</td>\n",
       "      <td>1723891726467518907</td>\n",
       "    </tr>\n",
       "    <tr>\n",
       "      <th>1</th>\n",
       "      <td>Inbox</td>\n",
       "      <td>Category social</td>\n",
       "      <td>Unread</td>\n",
       "      <td>\"Facebook\" &lt;friendupdates@facebookmail.com&gt;</td>\n",
       "      <td>Inbox,Category social,Unread</td>\n",
       "      <td>1724412467457653322</td>\n",
       "    </tr>\n",
       "    <tr>\n",
       "      <th>2</th>\n",
       "      <td>Inbox</td>\n",
       "      <td>Category promotions</td>\n",
       "      <td>Unread</td>\n",
       "      <td>\"AbeBooks.co.uk\" &lt;news@sender.abebooks.co.uk&gt;</td>\n",
       "      <td>Inbox,Category promotions,Unread</td>\n",
       "      <td>1722584654539701008</td>\n",
       "    </tr>\n",
       "    <tr>\n",
       "      <th>3</th>\n",
       "      <td>Inbox</td>\n",
       "      <td>Category promotions</td>\n",
       "      <td>Unread</td>\n",
       "      <td>\"MANGO Man\" &lt;news@a.mango.com&gt;</td>\n",
       "      <td>Inbox,Category promotions,Unread</td>\n",
       "      <td>1722549865366624443</td>\n",
       "    </tr>\n",
       "    <tr>\n",
       "      <th>4</th>\n",
       "      <td>Inbox</td>\n",
       "      <td>Opened</td>\n",
       "      <td>Category updates</td>\n",
       "      <td>\"ITVDN\" &lt;info@itvdn.com&gt;</td>\n",
       "      <td>Inbox,Opened,Category updates</td>\n",
       "      <td>1723092238726073413</td>\n",
       "    </tr>\n",
       "  </tbody>\n",
       "</table>\n",
       "</div>"
      ],
      "text/plain": [
       "  Folder             Category       Read status  \\\n",
       "0  Inbox      Category social            Unread   \n",
       "1  Inbox      Category social            Unread   \n",
       "2  Inbox  Category promotions            Unread   \n",
       "3  Inbox  Category promotions            Unread   \n",
       "4  Inbox               Opened  Category updates   \n",
       "\n",
       "                                                From  \\\n",
       "0  Anara Alpyssova via LinkedIn <invitations@link...   \n",
       "1        \"Facebook\" <friendupdates@facebookmail.com>   \n",
       "2      \"AbeBooks.co.uk\" <news@sender.abebooks.co.uk>   \n",
       "3                     \"MANGO Man\" <news@a.mango.com>   \n",
       "4                           \"ITVDN\" <info@itvdn.com>   \n",
       "\n",
       "                     X-Gmail-Labels           X-GM-THRID  \n",
       "0      Inbox,Category social,Unread  1723891726467518907  \n",
       "1      Inbox,Category social,Unread  1724412467457653322  \n",
       "2  Inbox,Category promotions,Unread  1722584654539701008  \n",
       "3  Inbox,Category promotions,Unread  1722549865366624443  \n",
       "4     Inbox,Opened,Category updates  1723092238726073413  "
      ]
     },
     "execution_count": 105,
     "metadata": {},
     "output_type": "execute_result"
    }
   ],
   "source": [
    "#rename new columns\n",
    "df3.rename(columns={0:\"Folder\", 1:\"Category\", 2:\"Read status\"},inplace=True)\n",
    "print(df3.columns)\n",
    "df3.head()"
   ]
  },
  {
   "cell_type": "code",
   "execution_count": 106,
   "id": "ddd63955",
   "metadata": {},
   "outputs": [
    {
     "name": "stdout",
     "output_type": "stream",
     "text": [
      "Index(['Folder', 'Category', 'Read status', 'X-Gmail-Labels', 'X-GM-THRID'], dtype='object')\n"
     ]
    }
   ],
   "source": [
    "#delete email column\n",
    "df3.drop('From', axis=1, inplace=True)\n",
    "print(df3.columns)"
   ]
  },
  {
   "cell_type": "markdown",
   "id": "27dfc938",
   "metadata": {},
   "source": [
    "**Visualisation**"
   ]
  },
  {
   "cell_type": "code",
   "execution_count": null,
   "id": "827ce1a9",
   "metadata": {},
   "outputs": [],
   "source": []
  }
 ],
 "metadata": {
  "kernelspec": {
   "display_name": "Python 3 (ipykernel)",
   "language": "python",
   "name": "python3"
  },
  "language_info": {
   "codemirror_mode": {
    "name": "ipython",
    "version": 3
   },
   "file_extension": ".py",
   "mimetype": "text/x-python",
   "name": "python",
   "nbconvert_exporter": "python",
   "pygments_lexer": "ipython3",
   "version": "3.9.7"
  }
 },
 "nbformat": 4,
 "nbformat_minor": 5
}
